{
 "cells": [
  {
   "cell_type": "code",
   "execution_count": 1,
   "id": "8d82570c-fa38-4fdb-acb2-48e297d1de31",
   "metadata": {},
   "outputs": [],
   "source": [
    "import pandas as pd"
   ]
  },
  {
   "cell_type": "code",
   "execution_count": 2,
   "id": "557c2192-5b8a-40e9-a851-bdcf4fdda869",
   "metadata": {},
   "outputs": [],
   "source": [
    "df=pd.read_csv('data.csv')"
   ]
  },
  {
   "cell_type": "code",
   "execution_count": 3,
   "id": "69ef8dcd-7ce8-4ae3-a138-3b764e28eb2e",
   "metadata": {},
   "outputs": [
    {
     "data": {
      "text/html": [
       "<div>\n",
       "<style scoped>\n",
       "    .dataframe tbody tr th:only-of-type {\n",
       "        vertical-align: middle;\n",
       "    }\n",
       "\n",
       "    .dataframe tbody tr th {\n",
       "        vertical-align: top;\n",
       "    }\n",
       "\n",
       "    .dataframe thead th {\n",
       "        text-align: right;\n",
       "    }\n",
       "</style>\n",
       "<table border=\"1\" class=\"dataframe\">\n",
       "  <thead>\n",
       "    <tr style=\"text-align: right;\">\n",
       "      <th></th>\n",
       "      <th>Unnamed: 0</th>\n",
       "      <th>Company Name</th>\n",
       "      <th>Model Name</th>\n",
       "      <th>Price</th>\n",
       "      <th>Model Year</th>\n",
       "      <th>Location</th>\n",
       "      <th>Mileage</th>\n",
       "      <th>Engine Type</th>\n",
       "      <th>Engine Capacity</th>\n",
       "      <th>Color</th>\n",
       "      <th>Assembly</th>\n",
       "      <th>Body Type</th>\n",
       "      <th>Transmission Type</th>\n",
       "      <th>Registration Status</th>\n",
       "    </tr>\n",
       "  </thead>\n",
       "  <tbody>\n",
       "    <tr>\n",
       "      <th>0</th>\n",
       "      <td>0</td>\n",
       "      <td>Toyota</td>\n",
       "      <td>Vitz</td>\n",
       "      <td>2385000</td>\n",
       "      <td>2017</td>\n",
       "      <td>Islamabad</td>\n",
       "      <td>9869</td>\n",
       "      <td>Petrol</td>\n",
       "      <td>1000</td>\n",
       "      <td>Silver</td>\n",
       "      <td>Imported</td>\n",
       "      <td>Hatchback</td>\n",
       "      <td>Automatic</td>\n",
       "      <td>Un-Registered</td>\n",
       "    </tr>\n",
       "    <tr>\n",
       "      <th>1</th>\n",
       "      <td>1</td>\n",
       "      <td>Toyota</td>\n",
       "      <td>Corolla</td>\n",
       "      <td>111000</td>\n",
       "      <td>2019</td>\n",
       "      <td>KPK</td>\n",
       "      <td>11111</td>\n",
       "      <td>Petrol</td>\n",
       "      <td>1300</td>\n",
       "      <td>White</td>\n",
       "      <td>Local</td>\n",
       "      <td>Sedan</td>\n",
       "      <td>Automatic</td>\n",
       "      <td>Registered</td>\n",
       "    </tr>\n",
       "    <tr>\n",
       "      <th>2</th>\n",
       "      <td>2</td>\n",
       "      <td>Suzuki</td>\n",
       "      <td>Alto</td>\n",
       "      <td>1530000</td>\n",
       "      <td>2019</td>\n",
       "      <td>KPK</td>\n",
       "      <td>17500</td>\n",
       "      <td>Petrol</td>\n",
       "      <td>660</td>\n",
       "      <td>White</td>\n",
       "      <td>Local</td>\n",
       "      <td>Hatchback</td>\n",
       "      <td>Automatic</td>\n",
       "      <td>Un-Registered</td>\n",
       "    </tr>\n",
       "    <tr>\n",
       "      <th>3</th>\n",
       "      <td>3</td>\n",
       "      <td>Suzuki</td>\n",
       "      <td>Alto</td>\n",
       "      <td>1650000</td>\n",
       "      <td>2019</td>\n",
       "      <td>Punjab</td>\n",
       "      <td>9600</td>\n",
       "      <td>Petrol</td>\n",
       "      <td>660</td>\n",
       "      <td>White</td>\n",
       "      <td>Local</td>\n",
       "      <td>Hatchback</td>\n",
       "      <td>Manual</td>\n",
       "      <td>Registered</td>\n",
       "    </tr>\n",
       "    <tr>\n",
       "      <th>4</th>\n",
       "      <td>4</td>\n",
       "      <td>Toyota</td>\n",
       "      <td>Corolla</td>\n",
       "      <td>1435000</td>\n",
       "      <td>2010</td>\n",
       "      <td>Islamabad</td>\n",
       "      <td>120000</td>\n",
       "      <td>Petrol</td>\n",
       "      <td>1300</td>\n",
       "      <td>Black</td>\n",
       "      <td>Local</td>\n",
       "      <td>Sedan</td>\n",
       "      <td>Manual</td>\n",
       "      <td>Registered</td>\n",
       "    </tr>\n",
       "  </tbody>\n",
       "</table>\n",
       "</div>"
      ],
      "text/plain": [
       "   Unnamed: 0 Company Name Model Name    Price  Model Year   Location  \\\n",
       "0           0       Toyota       Vitz  2385000        2017  Islamabad   \n",
       "1           1       Toyota    Corolla   111000        2019        KPK   \n",
       "2           2       Suzuki       Alto  1530000        2019        KPK   \n",
       "3           3       Suzuki       Alto  1650000        2019     Punjab   \n",
       "4           4       Toyota    Corolla  1435000        2010  Islamabad   \n",
       "\n",
       "   Mileage Engine Type  Engine Capacity   Color  Assembly  Body Type  \\\n",
       "0     9869      Petrol             1000  Silver  Imported  Hatchback   \n",
       "1    11111      Petrol             1300   White     Local      Sedan   \n",
       "2    17500      Petrol              660   White     Local  Hatchback   \n",
       "3     9600      Petrol              660   White     Local  Hatchback   \n",
       "4   120000      Petrol             1300   Black     Local      Sedan   \n",
       "\n",
       "  Transmission Type Registration Status  \n",
       "0         Automatic       Un-Registered  \n",
       "1         Automatic          Registered  \n",
       "2         Automatic       Un-Registered  \n",
       "3            Manual          Registered  \n",
       "4            Manual          Registered  "
      ]
     },
     "execution_count": 3,
     "metadata": {},
     "output_type": "execute_result"
    }
   ],
   "source": [
    "df.head()"
   ]
  },
  {
   "cell_type": "code",
   "execution_count": 4,
   "id": "f9afc70a-6020-41e1-b041-5d54832461e7",
   "metadata": {},
   "outputs": [
    {
     "data": {
      "text/plain": [
       "Unnamed: 0             0\n",
       "Company Name           0\n",
       "Model Name             0\n",
       "Price                  0\n",
       "Model Year             0\n",
       "Location               0\n",
       "Mileage                0\n",
       "Engine Type            0\n",
       "Engine Capacity        0\n",
       "Color                  0\n",
       "Assembly               0\n",
       "Body Type              0\n",
       "Transmission Type      0\n",
       "Registration Status    0\n",
       "dtype: int64"
      ]
     },
     "execution_count": 4,
     "metadata": {},
     "output_type": "execute_result"
    }
   ],
   "source": [
    "df.isnull().sum()"
   ]
  },
  {
   "cell_type": "code",
   "execution_count": 6,
   "id": "a248bd89-1150-44f4-9a02-36f8096fadbe",
   "metadata": {},
   "outputs": [
    {
     "data": {
      "text/plain": [
       "Unnamed: 0              int64\n",
       "Company Name           object\n",
       "Model Name             object\n",
       "Price                   int64\n",
       "Model Year              int64\n",
       "Location               object\n",
       "Mileage                 int64\n",
       "Engine Type            object\n",
       "Engine Capacity         int64\n",
       "Color                  object\n",
       "Assembly               object\n",
       "Body Type              object\n",
       "Transmission Type      object\n",
       "Registration Status    object\n",
       "dtype: object"
      ]
     },
     "execution_count": 6,
     "metadata": {},
     "output_type": "execute_result"
    }
   ],
   "source": [
    "df.dtypes"
   ]
  },
  {
   "cell_type": "code",
   "execution_count": 10,
   "id": "c0f69477-248e-4e4e-bd47-df5d5d6db90c",
   "metadata": {},
   "outputs": [],
   "source": [
    "car=df.drop(columns=['Unnamed: 0','Registration Status'])"
   ]
  },
  {
   "cell_type": "code",
   "execution_count": 11,
   "id": "63e58c3c-97ea-491c-8691-736ee3d5c1a8",
   "metadata": {},
   "outputs": [
    {
     "data": {
      "text/html": [
       "<div>\n",
       "<style scoped>\n",
       "    .dataframe tbody tr th:only-of-type {\n",
       "        vertical-align: middle;\n",
       "    }\n",
       "\n",
       "    .dataframe tbody tr th {\n",
       "        vertical-align: top;\n",
       "    }\n",
       "\n",
       "    .dataframe thead th {\n",
       "        text-align: right;\n",
       "    }\n",
       "</style>\n",
       "<table border=\"1\" class=\"dataframe\">\n",
       "  <thead>\n",
       "    <tr style=\"text-align: right;\">\n",
       "      <th></th>\n",
       "      <th>Company Name</th>\n",
       "      <th>Model Name</th>\n",
       "      <th>Price</th>\n",
       "      <th>Model Year</th>\n",
       "      <th>Location</th>\n",
       "      <th>Mileage</th>\n",
       "      <th>Engine Type</th>\n",
       "      <th>Engine Capacity</th>\n",
       "      <th>Color</th>\n",
       "      <th>Assembly</th>\n",
       "      <th>Body Type</th>\n",
       "      <th>Transmission Type</th>\n",
       "    </tr>\n",
       "  </thead>\n",
       "  <tbody>\n",
       "    <tr>\n",
       "      <th>34684</th>\n",
       "      <td>Honda</td>\n",
       "      <td>Civic</td>\n",
       "      <td>3200000</td>\n",
       "      <td>2017</td>\n",
       "      <td>Islamabad</td>\n",
       "      <td>60000</td>\n",
       "      <td>Petrol</td>\n",
       "      <td>1800</td>\n",
       "      <td>Black</td>\n",
       "      <td>Local</td>\n",
       "      <td>Sedan</td>\n",
       "      <td>Automatic</td>\n",
       "    </tr>\n",
       "    <tr>\n",
       "      <th>15134</th>\n",
       "      <td>Honda</td>\n",
       "      <td>Civic</td>\n",
       "      <td>3545000</td>\n",
       "      <td>2018</td>\n",
       "      <td>Punjab</td>\n",
       "      <td>24289</td>\n",
       "      <td>Petrol</td>\n",
       "      <td>1800</td>\n",
       "      <td>White</td>\n",
       "      <td>Local</td>\n",
       "      <td>Sedan</td>\n",
       "      <td>Automatic</td>\n",
       "    </tr>\n",
       "  </tbody>\n",
       "</table>\n",
       "</div>"
      ],
      "text/plain": [
       "      Company Name Model Name    Price  Model Year   Location  Mileage  \\\n",
       "34684        Honda      Civic  3200000        2017  Islamabad    60000   \n",
       "15134        Honda      Civic  3545000        2018     Punjab    24289   \n",
       "\n",
       "      Engine Type  Engine Capacity  Color Assembly Body Type Transmission Type  \n",
       "34684      Petrol             1800  Black    Local     Sedan         Automatic  \n",
       "15134      Petrol             1800  White    Local     Sedan         Automatic  "
      ]
     },
     "execution_count": 11,
     "metadata": {},
     "output_type": "execute_result"
    }
   ],
   "source": [
    "car.sample(2)"
   ]
  },
  {
   "cell_type": "code",
   "execution_count": 13,
   "id": "62aeedf1-27e7-408c-a801-6fcabda8b61f",
   "metadata": {},
   "outputs": [],
   "source": [
    "X=car.drop(columns='Price')\n",
    "y=car['Price']"
   ]
  },
  {
   "cell_type": "code",
   "execution_count": 14,
   "id": "fb0bb9bf-f2fd-4278-ac91-0e0eac3f75a7",
   "metadata": {},
   "outputs": [],
   "source": [
    "from sklearn.model_selection import train_test_split"
   ]
  },
  {
   "cell_type": "code",
   "execution_count": 15,
   "id": "d4a10b26-0f9e-4a7d-b022-8655bad38d95",
   "metadata": {},
   "outputs": [],
   "source": [
    "X_train,X_test,y_train,y_test=train_test_split(X,y,test_size=0.2)"
   ]
  },
  {
   "cell_type": "code",
   "execution_count": 16,
   "id": "b436e072-3209-48b8-af8d-72f8a7391107",
   "metadata": {},
   "outputs": [],
   "source": [
    "from sklearn.linear_model import LinearRegression\n",
    "from sklearn.metrics import r2_score\n",
    "from sklearn.preprocessing import OneHotEncoder\n",
    "from sklearn.compose import make_column_transformer\n",
    "from sklearn.pipeline import make_pipeline\n",
    "from sklearn.tree import DecisionTreeRegressor"
   ]
  },
  {
   "cell_type": "code",
   "execution_count": 17,
   "id": "1a3a584b-db16-4662-b600-f53f891cb826",
   "metadata": {},
   "outputs": [
    {
     "data": {
      "text/html": [
       "<style>#sk-container-id-1 {color: black;}#sk-container-id-1 pre{padding: 0;}#sk-container-id-1 div.sk-toggleable {background-color: white;}#sk-container-id-1 label.sk-toggleable__label {cursor: pointer;display: block;width: 100%;margin-bottom: 0;padding: 0.3em;box-sizing: border-box;text-align: center;}#sk-container-id-1 label.sk-toggleable__label-arrow:before {content: \"▸\";float: left;margin-right: 0.25em;color: #696969;}#sk-container-id-1 label.sk-toggleable__label-arrow:hover:before {color: black;}#sk-container-id-1 div.sk-estimator:hover label.sk-toggleable__label-arrow:before {color: black;}#sk-container-id-1 div.sk-toggleable__content {max-height: 0;max-width: 0;overflow: hidden;text-align: left;background-color: #f0f8ff;}#sk-container-id-1 div.sk-toggleable__content pre {margin: 0.2em;color: black;border-radius: 0.25em;background-color: #f0f8ff;}#sk-container-id-1 input.sk-toggleable__control:checked~div.sk-toggleable__content {max-height: 200px;max-width: 100%;overflow: auto;}#sk-container-id-1 input.sk-toggleable__control:checked~label.sk-toggleable__label-arrow:before {content: \"▾\";}#sk-container-id-1 div.sk-estimator input.sk-toggleable__control:checked~label.sk-toggleable__label {background-color: #d4ebff;}#sk-container-id-1 div.sk-label input.sk-toggleable__control:checked~label.sk-toggleable__label {background-color: #d4ebff;}#sk-container-id-1 input.sk-hidden--visually {border: 0;clip: rect(1px 1px 1px 1px);clip: rect(1px, 1px, 1px, 1px);height: 1px;margin: -1px;overflow: hidden;padding: 0;position: absolute;width: 1px;}#sk-container-id-1 div.sk-estimator {font-family: monospace;background-color: #f0f8ff;border: 1px dotted black;border-radius: 0.25em;box-sizing: border-box;margin-bottom: 0.5em;}#sk-container-id-1 div.sk-estimator:hover {background-color: #d4ebff;}#sk-container-id-1 div.sk-parallel-item::after {content: \"\";width: 100%;border-bottom: 1px solid gray;flex-grow: 1;}#sk-container-id-1 div.sk-label:hover label.sk-toggleable__label {background-color: #d4ebff;}#sk-container-id-1 div.sk-serial::before {content: \"\";position: absolute;border-left: 1px solid gray;box-sizing: border-box;top: 0;bottom: 0;left: 50%;z-index: 0;}#sk-container-id-1 div.sk-serial {display: flex;flex-direction: column;align-items: center;background-color: white;padding-right: 0.2em;padding-left: 0.2em;position: relative;}#sk-container-id-1 div.sk-item {position: relative;z-index: 1;}#sk-container-id-1 div.sk-parallel {display: flex;align-items: stretch;justify-content: center;background-color: white;position: relative;}#sk-container-id-1 div.sk-item::before, #sk-container-id-1 div.sk-parallel-item::before {content: \"\";position: absolute;border-left: 1px solid gray;box-sizing: border-box;top: 0;bottom: 0;left: 50%;z-index: -1;}#sk-container-id-1 div.sk-parallel-item {display: flex;flex-direction: column;z-index: 1;position: relative;background-color: white;}#sk-container-id-1 div.sk-parallel-item:first-child::after {align-self: flex-end;width: 50%;}#sk-container-id-1 div.sk-parallel-item:last-child::after {align-self: flex-start;width: 50%;}#sk-container-id-1 div.sk-parallel-item:only-child::after {width: 0;}#sk-container-id-1 div.sk-dashed-wrapped {border: 1px dashed gray;margin: 0 0.4em 0.5em 0.4em;box-sizing: border-box;padding-bottom: 0.4em;background-color: white;}#sk-container-id-1 div.sk-label label {font-family: monospace;font-weight: bold;display: inline-block;line-height: 1.2em;}#sk-container-id-1 div.sk-label-container {text-align: center;}#sk-container-id-1 div.sk-container {/* jupyter's `normalize.less` sets `[hidden] { display: none; }` but bootstrap.min.css set `[hidden] { display: none !important; }` so we also need the `!important` here to be able to override the default hidden behavior on the sphinx rendered scikit-learn.org. See: https://github.com/scikit-learn/scikit-learn/issues/21755 */display: inline-block !important;position: relative;}#sk-container-id-1 div.sk-text-repr-fallback {display: none;}</style><div id=\"sk-container-id-1\" class=\"sk-top-container\"><div class=\"sk-text-repr-fallback\"><pre>OneHotEncoder()</pre><b>In a Jupyter environment, please rerun this cell to show the HTML representation or trust the notebook. <br />On GitHub, the HTML representation is unable to render, please try loading this page with nbviewer.org.</b></div><div class=\"sk-container\" hidden><div class=\"sk-item\"><div class=\"sk-estimator sk-toggleable\"><input class=\"sk-toggleable__control sk-hidden--visually\" id=\"sk-estimator-id-1\" type=\"checkbox\" checked><label for=\"sk-estimator-id-1\" class=\"sk-toggleable__label sk-toggleable__label-arrow\">OneHotEncoder</label><div class=\"sk-toggleable__content\"><pre>OneHotEncoder()</pre></div></div></div></div></div>"
      ],
      "text/plain": [
       "OneHotEncoder()"
      ]
     },
     "execution_count": 17,
     "metadata": {},
     "output_type": "execute_result"
    }
   ],
   "source": [
    "ohe=OneHotEncoder()\n",
    "ohe.fit(X[['Company Name','Model Name','Location','Engine Type','Color','Assembly','Body Type','Transmission Type']])"
   ]
  },
  {
   "cell_type": "code",
   "execution_count": 18,
   "id": "aa71eea3-3b31-43d6-90b3-92622353cd48",
   "metadata": {
    "scrolled": true
   },
   "outputs": [
    {
     "data": {
      "text/plain": [
       "[array(['Adam', 'Audi', 'BMW', 'Chery', 'Chevrolet', 'DFSK', 'Daewoo',\n",
       "        'Daihatsu', 'FAW', 'Fiat', 'Honda', 'Hummer', 'Hyundai', 'Jaguar',\n",
       "        'Jeep', 'KIA', 'Land', 'Lexus', 'MINI', 'Mazda', 'Mercedes',\n",
       "        'Mitsubishi', 'Nissan', 'Porsche', 'Range', 'SsangYong', 'Subaru',\n",
       "        'Suzuki', 'Toyota', 'United', 'Volvo'], dtype=object),\n",
       " array(['3', '5', '7', 'A3', 'A4', 'A5', 'A6', 'A7', 'APV', 'Accord',\n",
       "        'Acty', 'Allion', 'Alphard', 'Altezza', 'Alto', 'Aqua', 'Auris',\n",
       "        'Avanza', 'Aveo', 'Axela', 'Aygo', 'Azwagon', 'B', 'Baleno',\n",
       "        'Bego', 'Belta', 'Benz', 'Blue', 'Bluebird', 'Bolan', 'Boon',\n",
       "        'Bravo', 'C-HR', 'C37', 'CJ', 'CR-V', 'CT200h', 'Caldina', 'Cami',\n",
       "        'Camry', 'Carol', 'Cast', 'Cayenne', 'Cefiro', 'Celerio', 'Cervo',\n",
       "        'Charade', 'Ciaz', 'City', 'Civic', 'Clipper', 'Convoy', 'Cooper',\n",
       "        'Corolla', 'Corona', 'Coupe', 'Cross', 'Crown', 'Cultus', 'Cuore',\n",
       "        'Dayz', 'Dias', 'Duet', 'EK', 'Ek', 'Esse', 'Estima', 'Excel',\n",
       "        'Exclusive', 'FX', 'Familia', 'Fit', 'Flair', 'Fortuner', 'Freed',\n",
       "        'Galant', 'Glory', 'Grace', 'H2', 'HR-V', 'Hiace', 'Hijet',\n",
       "        'Hilux', 'Hustler', 'I', 'ISIS', 'IST', 'Impreza', 'Insight',\n",
       "        'Jimny', 'Joy', 'Juke', 'Justy', 'Kei', 'Khyber', 'Kizashi',\n",
       "        'L300', 'LX', 'Lancer', 'Land', 'Latio', 'Liana', 'Life', 'MR',\n",
       "        'Macan', 'March', 'Margalla', 'Mark', 'Mehran', 'Minica', 'Mira',\n",
       "        'Mirage', 'Moco', 'Move', 'N', 'Noah', 'Note', 'Optra', 'Otti',\n",
       "        'Outlander', 'Pajero', 'Palette', 'Panamera', 'Passo', 'Patrol',\n",
       "        'Picanto', 'Pino', 'Pixis', 'Platz', 'Pleo', 'Porte', 'Potohar',\n",
       "        'Prado', 'Premio', 'Pride', 'Prius', 'Probox', 'Q2', 'Q3', 'Q7',\n",
       "        'QQ', 'RX', 'Racer', 'Ractis', 'Rav4', 'Revo', 'Roox', 'Rover',\n",
       "        'Rumion', 'Rush', 'S40', 'Santro', 'Scrum', 'Sienta', 'Sirius',\n",
       "        'Skyline', 'Solio', 'Sonica', 'Spectra', 'Splash', 'Sportage',\n",
       "        'Starlet', 'Stavic', 'Stella', 'Stream', 'Succeed', 'Sunny',\n",
       "        'Surf', 'Swift', 'Sx4', 'Tanto', 'Terios', 'Terrano', 'Thats',\n",
       "        'Tiida', 'Uno', 'V2', 'Vamos', 'Vanguard', 'Vezel', 'Vitara',\n",
       "        'Vitz', 'Voxy', 'Wagon', 'Wake', 'Wish', 'Wrangler', 'X', 'X-PV',\n",
       "        'X1', 'X3', 'X5', 'X6', 'XF', 'Zest', 'iQ'], dtype=object),\n",
       " array(['Balochistan', 'Islamabad', 'KPK', 'Kashmir', 'Punjab', 'Sindh'],\n",
       "       dtype=object),\n",
       " array(['Diesel', 'Hybrid', 'Petrol'], dtype=object),\n",
       " array(['Assembly', 'Beige', 'Black', 'Blue', 'Bronze', 'Brown',\n",
       "        'Burgundy', 'Gold', 'Green', 'Grey', 'Indigo', 'Magenta', 'Maroon',\n",
       "        'Navy', 'Orange', 'Pink', 'Purple', 'Red', 'Silver', 'Turquoise',\n",
       "        'Unlisted', 'White', 'Wine', 'Yellow'], dtype=object),\n",
       " array(['Imported', 'Local'], dtype=object),\n",
       " array(['Cross Over', 'Hatchback', 'Mini Van', 'SUV', 'Sedan', 'Van'],\n",
       "       dtype=object),\n",
       " array(['Automatic', 'Manual'], dtype=object)]"
      ]
     },
     "execution_count": 18,
     "metadata": {},
     "output_type": "execute_result"
    }
   ],
   "source": [
    "ohe.categories_"
   ]
  },
  {
   "cell_type": "code",
   "execution_count": 19,
   "id": "ecf4764f-3971-4274-bc52-8ee8f246104a",
   "metadata": {},
   "outputs": [],
   "source": [
    "# column_trans=make_column_transformer((OneHotEncoder(categories=ohe.categories_),['model','transmission','fuelType']),\n",
    "#                                    remainder='passthrough')\n",
    "\n",
    "from sklearn.compose import make_column_transformer\n",
    "from sklearn.preprocessing import OneHotEncoder\n",
    "\n",
    "# Assuming you already have ohe.categories_ defined\n",
    "# ohe.categories_ should contain the list of categories for each feature you want to encode\n",
    "\n",
    "# Initialize OneHotEncoder with handle_unknown='ignore'\n",
    "encoder = OneHotEncoder(categories=ohe.categories_, handle_unknown='ignore')\n",
    "\n",
    "# Define the column transformer\n",
    "column_trans = make_column_transformer(\n",
    "    (encoder, ['Company Name','Model Name','Location','Engine Type','Color','Assembly','Body Type','Transmission Type']),\n",
    "    remainder='passthrough'\n",
    ")\n",
    "\n"
   ]
  },
  {
   "cell_type": "code",
   "execution_count": 20,
   "id": "3af4a790-0749-4eca-a003-ee0f76949482",
   "metadata": {},
   "outputs": [],
   "source": [
    "# lr=LinearRegression()\n",
    "lr=DecisionTreeRegressor()"
   ]
  },
  {
   "cell_type": "code",
   "execution_count": 21,
   "id": "37748c24-2a39-4e7f-b56d-37182603c73d",
   "metadata": {},
   "outputs": [],
   "source": [
    "pipe=make_pipeline(column_trans,lr)"
   ]
  },
  {
   "cell_type": "code",
   "execution_count": 22,
   "id": "db72ce1f-4796-4f9b-b19b-b1873053ded8",
   "metadata": {},
   "outputs": [
    {
     "data": {
      "text/html": [
       "<style>#sk-container-id-2 {color: black;}#sk-container-id-2 pre{padding: 0;}#sk-container-id-2 div.sk-toggleable {background-color: white;}#sk-container-id-2 label.sk-toggleable__label {cursor: pointer;display: block;width: 100%;margin-bottom: 0;padding: 0.3em;box-sizing: border-box;text-align: center;}#sk-container-id-2 label.sk-toggleable__label-arrow:before {content: \"▸\";float: left;margin-right: 0.25em;color: #696969;}#sk-container-id-2 label.sk-toggleable__label-arrow:hover:before {color: black;}#sk-container-id-2 div.sk-estimator:hover label.sk-toggleable__label-arrow:before {color: black;}#sk-container-id-2 div.sk-toggleable__content {max-height: 0;max-width: 0;overflow: hidden;text-align: left;background-color: #f0f8ff;}#sk-container-id-2 div.sk-toggleable__content pre {margin: 0.2em;color: black;border-radius: 0.25em;background-color: #f0f8ff;}#sk-container-id-2 input.sk-toggleable__control:checked~div.sk-toggleable__content {max-height: 200px;max-width: 100%;overflow: auto;}#sk-container-id-2 input.sk-toggleable__control:checked~label.sk-toggleable__label-arrow:before {content: \"▾\";}#sk-container-id-2 div.sk-estimator input.sk-toggleable__control:checked~label.sk-toggleable__label {background-color: #d4ebff;}#sk-container-id-2 div.sk-label input.sk-toggleable__control:checked~label.sk-toggleable__label {background-color: #d4ebff;}#sk-container-id-2 input.sk-hidden--visually {border: 0;clip: rect(1px 1px 1px 1px);clip: rect(1px, 1px, 1px, 1px);height: 1px;margin: -1px;overflow: hidden;padding: 0;position: absolute;width: 1px;}#sk-container-id-2 div.sk-estimator {font-family: monospace;background-color: #f0f8ff;border: 1px dotted black;border-radius: 0.25em;box-sizing: border-box;margin-bottom: 0.5em;}#sk-container-id-2 div.sk-estimator:hover {background-color: #d4ebff;}#sk-container-id-2 div.sk-parallel-item::after {content: \"\";width: 100%;border-bottom: 1px solid gray;flex-grow: 1;}#sk-container-id-2 div.sk-label:hover label.sk-toggleable__label {background-color: #d4ebff;}#sk-container-id-2 div.sk-serial::before {content: \"\";position: absolute;border-left: 1px solid gray;box-sizing: border-box;top: 0;bottom: 0;left: 50%;z-index: 0;}#sk-container-id-2 div.sk-serial {display: flex;flex-direction: column;align-items: center;background-color: white;padding-right: 0.2em;padding-left: 0.2em;position: relative;}#sk-container-id-2 div.sk-item {position: relative;z-index: 1;}#sk-container-id-2 div.sk-parallel {display: flex;align-items: stretch;justify-content: center;background-color: white;position: relative;}#sk-container-id-2 div.sk-item::before, #sk-container-id-2 div.sk-parallel-item::before {content: \"\";position: absolute;border-left: 1px solid gray;box-sizing: border-box;top: 0;bottom: 0;left: 50%;z-index: -1;}#sk-container-id-2 div.sk-parallel-item {display: flex;flex-direction: column;z-index: 1;position: relative;background-color: white;}#sk-container-id-2 div.sk-parallel-item:first-child::after {align-self: flex-end;width: 50%;}#sk-container-id-2 div.sk-parallel-item:last-child::after {align-self: flex-start;width: 50%;}#sk-container-id-2 div.sk-parallel-item:only-child::after {width: 0;}#sk-container-id-2 div.sk-dashed-wrapped {border: 1px dashed gray;margin: 0 0.4em 0.5em 0.4em;box-sizing: border-box;padding-bottom: 0.4em;background-color: white;}#sk-container-id-2 div.sk-label label {font-family: monospace;font-weight: bold;display: inline-block;line-height: 1.2em;}#sk-container-id-2 div.sk-label-container {text-align: center;}#sk-container-id-2 div.sk-container {/* jupyter's `normalize.less` sets `[hidden] { display: none; }` but bootstrap.min.css set `[hidden] { display: none !important; }` so we also need the `!important` here to be able to override the default hidden behavior on the sphinx rendered scikit-learn.org. See: https://github.com/scikit-learn/scikit-learn/issues/21755 */display: inline-block !important;position: relative;}#sk-container-id-2 div.sk-text-repr-fallback {display: none;}</style><div id=\"sk-container-id-2\" class=\"sk-top-container\"><div class=\"sk-text-repr-fallback\"><pre>Pipeline(steps=[(&#x27;columntransformer&#x27;,\n",
       "                 ColumnTransformer(remainder=&#x27;passthrough&#x27;,\n",
       "                                   transformers=[(&#x27;onehotencoder&#x27;,\n",
       "                                                  OneHotEncoder(categories=[array([&#x27;Adam&#x27;, &#x27;Audi&#x27;, &#x27;BMW&#x27;, &#x27;Chery&#x27;, &#x27;Chevrolet&#x27;, &#x27;DFSK&#x27;, &#x27;Daewoo&#x27;,\n",
       "       &#x27;Daihatsu&#x27;, &#x27;FAW&#x27;, &#x27;Fiat&#x27;, &#x27;Honda&#x27;, &#x27;Hummer&#x27;, &#x27;Hyundai&#x27;, &#x27;Jaguar&#x27;,\n",
       "       &#x27;Jeep&#x27;, &#x27;KIA&#x27;, &#x27;Land&#x27;, &#x27;Lexus&#x27;, &#x27;MINI&#x27;, &#x27;Mazda&#x27;, &#x27;Mercedes&#x27;,\n",
       "       &#x27;Mitsubishi&#x27;, &#x27;Nissan&#x27;, &#x27;Porsche&#x27;, &#x27;Rang...\n",
       "       &#x27;Unlisted&#x27;, &#x27;White&#x27;, &#x27;Wine&#x27;, &#x27;Yellow&#x27;], dtype=object),\n",
       "                                                                            array([&#x27;Imported&#x27;, &#x27;Local&#x27;], dtype=object),\n",
       "                                                                            array([&#x27;Cross Over&#x27;, &#x27;Hatchback&#x27;, &#x27;Mini Van&#x27;, &#x27;SUV&#x27;, &#x27;Sedan&#x27;, &#x27;Van&#x27;],\n",
       "      dtype=object),\n",
       "                                                                            array([&#x27;Automatic&#x27;, &#x27;Manual&#x27;], dtype=object)],\n",
       "                                                                handle_unknown=&#x27;ignore&#x27;),\n",
       "                                                  [&#x27;Company Name&#x27;, &#x27;Model Name&#x27;,\n",
       "                                                   &#x27;Location&#x27;, &#x27;Engine Type&#x27;,\n",
       "                                                   &#x27;Color&#x27;, &#x27;Assembly&#x27;,\n",
       "                                                   &#x27;Body Type&#x27;,\n",
       "                                                   &#x27;Transmission Type&#x27;])])),\n",
       "                (&#x27;decisiontreeregressor&#x27;, DecisionTreeRegressor())])</pre><b>In a Jupyter environment, please rerun this cell to show the HTML representation or trust the notebook. <br />On GitHub, the HTML representation is unable to render, please try loading this page with nbviewer.org.</b></div><div class=\"sk-container\" hidden><div class=\"sk-item sk-dashed-wrapped\"><div class=\"sk-label-container\"><div class=\"sk-label sk-toggleable\"><input class=\"sk-toggleable__control sk-hidden--visually\" id=\"sk-estimator-id-2\" type=\"checkbox\" ><label for=\"sk-estimator-id-2\" class=\"sk-toggleable__label sk-toggleable__label-arrow\">Pipeline</label><div class=\"sk-toggleable__content\"><pre>Pipeline(steps=[(&#x27;columntransformer&#x27;,\n",
       "                 ColumnTransformer(remainder=&#x27;passthrough&#x27;,\n",
       "                                   transformers=[(&#x27;onehotencoder&#x27;,\n",
       "                                                  OneHotEncoder(categories=[array([&#x27;Adam&#x27;, &#x27;Audi&#x27;, &#x27;BMW&#x27;, &#x27;Chery&#x27;, &#x27;Chevrolet&#x27;, &#x27;DFSK&#x27;, &#x27;Daewoo&#x27;,\n",
       "       &#x27;Daihatsu&#x27;, &#x27;FAW&#x27;, &#x27;Fiat&#x27;, &#x27;Honda&#x27;, &#x27;Hummer&#x27;, &#x27;Hyundai&#x27;, &#x27;Jaguar&#x27;,\n",
       "       &#x27;Jeep&#x27;, &#x27;KIA&#x27;, &#x27;Land&#x27;, &#x27;Lexus&#x27;, &#x27;MINI&#x27;, &#x27;Mazda&#x27;, &#x27;Mercedes&#x27;,\n",
       "       &#x27;Mitsubishi&#x27;, &#x27;Nissan&#x27;, &#x27;Porsche&#x27;, &#x27;Rang...\n",
       "       &#x27;Unlisted&#x27;, &#x27;White&#x27;, &#x27;Wine&#x27;, &#x27;Yellow&#x27;], dtype=object),\n",
       "                                                                            array([&#x27;Imported&#x27;, &#x27;Local&#x27;], dtype=object),\n",
       "                                                                            array([&#x27;Cross Over&#x27;, &#x27;Hatchback&#x27;, &#x27;Mini Van&#x27;, &#x27;SUV&#x27;, &#x27;Sedan&#x27;, &#x27;Van&#x27;],\n",
       "      dtype=object),\n",
       "                                                                            array([&#x27;Automatic&#x27;, &#x27;Manual&#x27;], dtype=object)],\n",
       "                                                                handle_unknown=&#x27;ignore&#x27;),\n",
       "                                                  [&#x27;Company Name&#x27;, &#x27;Model Name&#x27;,\n",
       "                                                   &#x27;Location&#x27;, &#x27;Engine Type&#x27;,\n",
       "                                                   &#x27;Color&#x27;, &#x27;Assembly&#x27;,\n",
       "                                                   &#x27;Body Type&#x27;,\n",
       "                                                   &#x27;Transmission Type&#x27;])])),\n",
       "                (&#x27;decisiontreeregressor&#x27;, DecisionTreeRegressor())])</pre></div></div></div><div class=\"sk-serial\"><div class=\"sk-item sk-dashed-wrapped\"><div class=\"sk-label-container\"><div class=\"sk-label sk-toggleable\"><input class=\"sk-toggleable__control sk-hidden--visually\" id=\"sk-estimator-id-3\" type=\"checkbox\" ><label for=\"sk-estimator-id-3\" class=\"sk-toggleable__label sk-toggleable__label-arrow\">columntransformer: ColumnTransformer</label><div class=\"sk-toggleable__content\"><pre>ColumnTransformer(remainder=&#x27;passthrough&#x27;,\n",
       "                  transformers=[(&#x27;onehotencoder&#x27;,\n",
       "                                 OneHotEncoder(categories=[array([&#x27;Adam&#x27;, &#x27;Audi&#x27;, &#x27;BMW&#x27;, &#x27;Chery&#x27;, &#x27;Chevrolet&#x27;, &#x27;DFSK&#x27;, &#x27;Daewoo&#x27;,\n",
       "       &#x27;Daihatsu&#x27;, &#x27;FAW&#x27;, &#x27;Fiat&#x27;, &#x27;Honda&#x27;, &#x27;Hummer&#x27;, &#x27;Hyundai&#x27;, &#x27;Jaguar&#x27;,\n",
       "       &#x27;Jeep&#x27;, &#x27;KIA&#x27;, &#x27;Land&#x27;, &#x27;Lexus&#x27;, &#x27;MINI&#x27;, &#x27;Mazda&#x27;, &#x27;Mercedes&#x27;,\n",
       "       &#x27;Mitsubishi&#x27;, &#x27;Nissan&#x27;, &#x27;Porsche&#x27;, &#x27;Range&#x27;, &#x27;SsangYong&#x27;, &#x27;Subaru&#x27;,\n",
       "       &#x27;Suzuki&#x27;, &#x27;Toy...\n",
       "       &#x27;Navy&#x27;, &#x27;Orange&#x27;, &#x27;Pink&#x27;, &#x27;Purple&#x27;, &#x27;Red&#x27;, &#x27;Silver&#x27;, &#x27;Turquoise&#x27;,\n",
       "       &#x27;Unlisted&#x27;, &#x27;White&#x27;, &#x27;Wine&#x27;, &#x27;Yellow&#x27;], dtype=object),\n",
       "                                                           array([&#x27;Imported&#x27;, &#x27;Local&#x27;], dtype=object),\n",
       "                                                           array([&#x27;Cross Over&#x27;, &#x27;Hatchback&#x27;, &#x27;Mini Van&#x27;, &#x27;SUV&#x27;, &#x27;Sedan&#x27;, &#x27;Van&#x27;],\n",
       "      dtype=object),\n",
       "                                                           array([&#x27;Automatic&#x27;, &#x27;Manual&#x27;], dtype=object)],\n",
       "                                               handle_unknown=&#x27;ignore&#x27;),\n",
       "                                 [&#x27;Company Name&#x27;, &#x27;Model Name&#x27;, &#x27;Location&#x27;,\n",
       "                                  &#x27;Engine Type&#x27;, &#x27;Color&#x27;, &#x27;Assembly&#x27;,\n",
       "                                  &#x27;Body Type&#x27;, &#x27;Transmission Type&#x27;])])</pre></div></div></div><div class=\"sk-parallel\"><div class=\"sk-parallel-item\"><div class=\"sk-item\"><div class=\"sk-label-container\"><div class=\"sk-label sk-toggleable\"><input class=\"sk-toggleable__control sk-hidden--visually\" id=\"sk-estimator-id-4\" type=\"checkbox\" ><label for=\"sk-estimator-id-4\" class=\"sk-toggleable__label sk-toggleable__label-arrow\">onehotencoder</label><div class=\"sk-toggleable__content\"><pre>[&#x27;Company Name&#x27;, &#x27;Model Name&#x27;, &#x27;Location&#x27;, &#x27;Engine Type&#x27;, &#x27;Color&#x27;, &#x27;Assembly&#x27;, &#x27;Body Type&#x27;, &#x27;Transmission Type&#x27;]</pre></div></div></div><div class=\"sk-serial\"><div class=\"sk-item\"><div class=\"sk-estimator sk-toggleable\"><input class=\"sk-toggleable__control sk-hidden--visually\" id=\"sk-estimator-id-5\" type=\"checkbox\" ><label for=\"sk-estimator-id-5\" class=\"sk-toggleable__label sk-toggleable__label-arrow\">OneHotEncoder</label><div class=\"sk-toggleable__content\"><pre>OneHotEncoder(categories=[array([&#x27;Adam&#x27;, &#x27;Audi&#x27;, &#x27;BMW&#x27;, &#x27;Chery&#x27;, &#x27;Chevrolet&#x27;, &#x27;DFSK&#x27;, &#x27;Daewoo&#x27;,\n",
       "       &#x27;Daihatsu&#x27;, &#x27;FAW&#x27;, &#x27;Fiat&#x27;, &#x27;Honda&#x27;, &#x27;Hummer&#x27;, &#x27;Hyundai&#x27;, &#x27;Jaguar&#x27;,\n",
       "       &#x27;Jeep&#x27;, &#x27;KIA&#x27;, &#x27;Land&#x27;, &#x27;Lexus&#x27;, &#x27;MINI&#x27;, &#x27;Mazda&#x27;, &#x27;Mercedes&#x27;,\n",
       "       &#x27;Mitsubishi&#x27;, &#x27;Nissan&#x27;, &#x27;Porsche&#x27;, &#x27;Range&#x27;, &#x27;SsangYong&#x27;, &#x27;Subaru&#x27;,\n",
       "       &#x27;Suzuki&#x27;, &#x27;Toyota&#x27;, &#x27;United&#x27;, &#x27;Volvo&#x27;], dtype=object),\n",
       "                          array([&#x27;3&#x27;, &#x27;5&#x27;, &#x27;7&#x27;, &#x27;A3&#x27;, &#x27;A4&#x27;, &#x27;A5&#x27;, &#x27;A...\n",
       "       &#x27;Burgundy&#x27;, &#x27;Gold&#x27;, &#x27;Green&#x27;, &#x27;Grey&#x27;, &#x27;Indigo&#x27;, &#x27;Magenta&#x27;, &#x27;Maroon&#x27;,\n",
       "       &#x27;Navy&#x27;, &#x27;Orange&#x27;, &#x27;Pink&#x27;, &#x27;Purple&#x27;, &#x27;Red&#x27;, &#x27;Silver&#x27;, &#x27;Turquoise&#x27;,\n",
       "       &#x27;Unlisted&#x27;, &#x27;White&#x27;, &#x27;Wine&#x27;, &#x27;Yellow&#x27;], dtype=object),\n",
       "                          array([&#x27;Imported&#x27;, &#x27;Local&#x27;], dtype=object),\n",
       "                          array([&#x27;Cross Over&#x27;, &#x27;Hatchback&#x27;, &#x27;Mini Van&#x27;, &#x27;SUV&#x27;, &#x27;Sedan&#x27;, &#x27;Van&#x27;],\n",
       "      dtype=object),\n",
       "                          array([&#x27;Automatic&#x27;, &#x27;Manual&#x27;], dtype=object)],\n",
       "              handle_unknown=&#x27;ignore&#x27;)</pre></div></div></div></div></div></div><div class=\"sk-parallel-item\"><div class=\"sk-item\"><div class=\"sk-label-container\"><div class=\"sk-label sk-toggleable\"><input class=\"sk-toggleable__control sk-hidden--visually\" id=\"sk-estimator-id-6\" type=\"checkbox\" ><label for=\"sk-estimator-id-6\" class=\"sk-toggleable__label sk-toggleable__label-arrow\">remainder</label><div class=\"sk-toggleable__content\"><pre>[&#x27;Model Year&#x27;, &#x27;Mileage&#x27;, &#x27;Engine Capacity&#x27;]</pre></div></div></div><div class=\"sk-serial\"><div class=\"sk-item\"><div class=\"sk-estimator sk-toggleable\"><input class=\"sk-toggleable__control sk-hidden--visually\" id=\"sk-estimator-id-7\" type=\"checkbox\" ><label for=\"sk-estimator-id-7\" class=\"sk-toggleable__label sk-toggleable__label-arrow\">passthrough</label><div class=\"sk-toggleable__content\"><pre>passthrough</pre></div></div></div></div></div></div></div></div><div class=\"sk-item\"><div class=\"sk-estimator sk-toggleable\"><input class=\"sk-toggleable__control sk-hidden--visually\" id=\"sk-estimator-id-8\" type=\"checkbox\" ><label for=\"sk-estimator-id-8\" class=\"sk-toggleable__label sk-toggleable__label-arrow\">DecisionTreeRegressor</label><div class=\"sk-toggleable__content\"><pre>DecisionTreeRegressor()</pre></div></div></div></div></div></div></div>"
      ],
      "text/plain": [
       "Pipeline(steps=[('columntransformer',\n",
       "                 ColumnTransformer(remainder='passthrough',\n",
       "                                   transformers=[('onehotencoder',\n",
       "                                                  OneHotEncoder(categories=[array(['Adam', 'Audi', 'BMW', 'Chery', 'Chevrolet', 'DFSK', 'Daewoo',\n",
       "       'Daihatsu', 'FAW', 'Fiat', 'Honda', 'Hummer', 'Hyundai', 'Jaguar',\n",
       "       'Jeep', 'KIA', 'Land', 'Lexus', 'MINI', 'Mazda', 'Mercedes',\n",
       "       'Mitsubishi', 'Nissan', 'Porsche', 'Rang...\n",
       "       'Unlisted', 'White', 'Wine', 'Yellow'], dtype=object),\n",
       "                                                                            array(['Imported', 'Local'], dtype=object),\n",
       "                                                                            array(['Cross Over', 'Hatchback', 'Mini Van', 'SUV', 'Sedan', 'Van'],\n",
       "      dtype=object),\n",
       "                                                                            array(['Automatic', 'Manual'], dtype=object)],\n",
       "                                                                handle_unknown='ignore'),\n",
       "                                                  ['Company Name', 'Model Name',\n",
       "                                                   'Location', 'Engine Type',\n",
       "                                                   'Color', 'Assembly',\n",
       "                                                   'Body Type',\n",
       "                                                   'Transmission Type'])])),\n",
       "                ('decisiontreeregressor', DecisionTreeRegressor())])"
      ]
     },
     "execution_count": 22,
     "metadata": {},
     "output_type": "execute_result"
    }
   ],
   "source": [
    "pipe.fit(X_train,y_train)"
   ]
  },
  {
   "cell_type": "code",
   "execution_count": 23,
   "id": "dd79a09d-1a29-40cc-a761-2d45457a387d",
   "metadata": {},
   "outputs": [],
   "source": [
    "y_pred=pipe.predict(X_test)"
   ]
  },
  {
   "cell_type": "code",
   "execution_count": 24,
   "id": "2cf55706-54a8-46e8-8180-d8653a6e57ef",
   "metadata": {},
   "outputs": [
    {
     "data": {
      "text/plain": [
       "array([3200000., 2200000., 1100000., ..., 2275000., 2275000.,  260000.])"
      ]
     },
     "execution_count": 24,
     "metadata": {},
     "output_type": "execute_result"
    }
   ],
   "source": [
    "y_pred"
   ]
  },
  {
   "cell_type": "code",
   "execution_count": 28,
   "id": "36f3a869-5bdc-42fe-ad69-433e87a33b2b",
   "metadata": {},
   "outputs": [
    {
     "data": {
      "text/html": [
       "<div>\n",
       "<style scoped>\n",
       "    .dataframe tbody tr th:only-of-type {\n",
       "        vertical-align: middle;\n",
       "    }\n",
       "\n",
       "    .dataframe tbody tr th {\n",
       "        vertical-align: top;\n",
       "    }\n",
       "\n",
       "    .dataframe thead th {\n",
       "        text-align: right;\n",
       "    }\n",
       "</style>\n",
       "<table border=\"1\" class=\"dataframe\">\n",
       "  <thead>\n",
       "    <tr style=\"text-align: right;\">\n",
       "      <th></th>\n",
       "      <th>Company Name</th>\n",
       "      <th>Model Name</th>\n",
       "      <th>Price</th>\n",
       "      <th>Model Year</th>\n",
       "      <th>Location</th>\n",
       "      <th>Mileage</th>\n",
       "      <th>Engine Type</th>\n",
       "      <th>Engine Capacity</th>\n",
       "      <th>Color</th>\n",
       "      <th>Assembly</th>\n",
       "      <th>Body Type</th>\n",
       "      <th>Transmission Type</th>\n",
       "    </tr>\n",
       "  </thead>\n",
       "  <tbody>\n",
       "    <tr>\n",
       "      <th>20238</th>\n",
       "      <td>Suzuki</td>\n",
       "      <td>Alto</td>\n",
       "      <td>510000</td>\n",
       "      <td>2003</td>\n",
       "      <td>Punjab</td>\n",
       "      <td>100000</td>\n",
       "      <td>Petrol</td>\n",
       "      <td>1000</td>\n",
       "      <td>Silver</td>\n",
       "      <td>Local</td>\n",
       "      <td>Hatchback</td>\n",
       "      <td>Manual</td>\n",
       "    </tr>\n",
       "    <tr>\n",
       "      <th>4999</th>\n",
       "      <td>BMW</td>\n",
       "      <td>3</td>\n",
       "      <td>2250000</td>\n",
       "      <td>2003</td>\n",
       "      <td>Islamabad</td>\n",
       "      <td>101000</td>\n",
       "      <td>Petrol</td>\n",
       "      <td>2000</td>\n",
       "      <td>Blue</td>\n",
       "      <td>Imported</td>\n",
       "      <td>Sedan</td>\n",
       "      <td>Automatic</td>\n",
       "    </tr>\n",
       "  </tbody>\n",
       "</table>\n",
       "</div>"
      ],
      "text/plain": [
       "      Company Name Model Name    Price  Model Year   Location  Mileage  \\\n",
       "20238       Suzuki       Alto   510000        2003     Punjab   100000   \n",
       "4999           BMW          3  2250000        2003  Islamabad   101000   \n",
       "\n",
       "      Engine Type  Engine Capacity   Color  Assembly  Body Type  \\\n",
       "20238      Petrol             1000  Silver     Local  Hatchback   \n",
       "4999       Petrol             2000    Blue  Imported      Sedan   \n",
       "\n",
       "      Transmission Type  \n",
       "20238            Manual  \n",
       "4999          Automatic  "
      ]
     },
     "execution_count": 28,
     "metadata": {},
     "output_type": "execute_result"
    }
   ],
   "source": [
    "car.sample(2)"
   ]
  },
  {
   "cell_type": "code",
   "execution_count": 25,
   "id": "f1730a4d-46e5-40ec-b6d0-c516260c6a71",
   "metadata": {},
   "outputs": [
    {
     "data": {
      "text/plain": [
       "0.9545349146814606"
      ]
     },
     "execution_count": 25,
     "metadata": {},
     "output_type": "execute_result"
    }
   ],
   "source": [
    "r2_score(y_test,y_pred)"
   ]
  },
  {
   "cell_type": "code",
   "execution_count": 26,
   "id": "369039f8-9140-4e9e-8dfc-209eb13c2c4c",
   "metadata": {},
   "outputs": [],
   "source": [
    "import pickle"
   ]
  },
  {
   "cell_type": "code",
   "execution_count": 27,
   "id": "796730a1-eaa5-4251-b9ef-b8e665bc9ce2",
   "metadata": {},
   "outputs": [],
   "source": [
    "pickle.dump(pipe,open('csk.pkl','wb'))"
   ]
  },
  {
   "cell_type": "code",
   "execution_count": 31,
   "id": "dd8989bd-dd0b-4b5d-997a-d04cabdec817",
   "metadata": {},
   "outputs": [
    {
     "data": {
      "text/plain": [
       "array([495000.])"
      ]
     },
     "execution_count": 31,
     "metadata": {},
     "output_type": "execute_result"
    }
   ],
   "source": [
    "pipe.predict(pd.DataFrame([['Suzuki','Alto',2003,'Punjab',100000,'Petrol',1000,'Silver','Local','Hatchback','Manual']],columns=['Company Name','Model Name','Model Year','Location','Mileage','Engine Type','Engine Capacity','Color','Assembly','Body Type','Transmission Type']))"
   ]
  },
  {
   "cell_type": "code",
   "execution_count": null,
   "id": "d95c8e36-be09-418f-9820-41a14aa83199",
   "metadata": {},
   "outputs": [],
   "source": []
  }
 ],
 "metadata": {
  "kernelspec": {
   "display_name": "Python 3 (ipykernel)",
   "language": "python",
   "name": "python3"
  },
  "language_info": {
   "codemirror_mode": {
    "name": "ipython",
    "version": 3
   },
   "file_extension": ".py",
   "mimetype": "text/x-python",
   "name": "python",
   "nbconvert_exporter": "python",
   "pygments_lexer": "ipython3",
   "version": "3.12.1"
  }
 },
 "nbformat": 4,
 "nbformat_minor": 5
}
